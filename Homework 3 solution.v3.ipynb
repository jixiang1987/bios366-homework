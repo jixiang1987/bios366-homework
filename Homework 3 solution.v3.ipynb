{
 "metadata": {
  "kernelspec": {
   "display_name": "IPython (Python 3)",
   "name": "python3"
  },
  "language_info": {
   "codemirror_mode": {
    "name": "ipython",
    "version": 3
   },
   "mimetype": "text/x-python",
   "name": "python",
   "pygments_lexer": "ipython3"
  },
  "name": "",
  "signature": "sha256:bcd9eaa706df4986ce1119858b6994edc01402ed1f69c97a075dc43f5501de9b"
 },
 "nbformat": 3,
 "nbformat_minor": 0,
 "worksheets": [
  {
   "cells": [
    {
     "cell_type": "markdown",
     "metadata": {},
     "source": [
      "Answer all questions and submit them either as an IPython notebook, LaTeX document, or Markdown document. Each question is worth 25 points.\n",
      "\n",
      "This homework is due on Friday, November 21, 2014."
     ]
    },
    {
     "cell_type": "code",
     "collapsed": true,
     "input": [
      "%matplotlib inline\n",
      "import numpy as np\n",
      "# import pymc as pm\n",
      "import pylab as plt\n",
      "import pandas as pd\n",
      "\n",
      "# Set seed\n",
      "np.random.seed(42)"
     ],
     "language": "python",
     "metadata": {},
     "outputs": [],
     "prompt_number": 2
    },
    {
     "cell_type": "markdown",
     "metadata": {},
     "source": [
      "## Question 1\n",
      "\n",
      "The `titanic.xls` spreadsheet in the `data` directory contains data regarding the passengers on the Titanic when it sank in 1912. A recent [Kaggle competition](http://www.kaggle.com/c/titanic-gettingStarted) was based on predicting survival for passengers based on the attributes in the passenger list. \n",
      "\n",
      "Use scikit-learn to build both a support vector classifier and a logistic regression model to predict survival on the Titanic. Use cross-validation to assess your models, and try to tune them to improve performance.\n",
      "\n",
      "Discuss the benefits and drawbacks of both approaches for application to such problems."
     ]
    },
    {
     "cell_type": "code",
     "collapsed": false,
     "input": [
      "titanic = pd.read_excel('/Users/fonnescj/Teaching/Bios366/data/titanic.xls', 'titanic')\n",
      "titanic.head()"
     ],
     "language": "python",
     "metadata": {},
     "outputs": [
      {
       "html": [
        "<div style=\"max-height:1000px;max-width:1500px;overflow:auto;\">\n",
        "<table border=\"1\" class=\"dataframe\">\n",
        "  <thead>\n",
        "    <tr style=\"text-align: right;\">\n",
        "      <th></th>\n",
        "      <th>pclass</th>\n",
        "      <th>survived</th>\n",
        "      <th>name</th>\n",
        "      <th>sex</th>\n",
        "      <th>age</th>\n",
        "      <th>sibsp</th>\n",
        "      <th>parch</th>\n",
        "      <th>ticket</th>\n",
        "      <th>fare</th>\n",
        "      <th>cabin</th>\n",
        "      <th>embarked</th>\n",
        "      <th>boat</th>\n",
        "      <th>body</th>\n",
        "      <th>home.dest</th>\n",
        "    </tr>\n",
        "  </thead>\n",
        "  <tbody>\n",
        "    <tr>\n",
        "      <th>0</th>\n",
        "      <td> 1</td>\n",
        "      <td> 1</td>\n",
        "      <td>                   Allen, Miss. Elisabeth Walton</td>\n",
        "      <td> female</td>\n",
        "      <td> 29.0000</td>\n",
        "      <td> 0</td>\n",
        "      <td> 0</td>\n",
        "      <td>  24160</td>\n",
        "      <td> 211.3375</td>\n",
        "      <td>      B5</td>\n",
        "      <td> S</td>\n",
        "      <td>   2</td>\n",
        "      <td> NaN</td>\n",
        "      <td>                    St Louis, MO</td>\n",
        "    </tr>\n",
        "    <tr>\n",
        "      <th>1</th>\n",
        "      <td> 1</td>\n",
        "      <td> 1</td>\n",
        "      <td>                  Allison, Master. Hudson Trevor</td>\n",
        "      <td>   male</td>\n",
        "      <td>  0.9167</td>\n",
        "      <td> 1</td>\n",
        "      <td> 2</td>\n",
        "      <td> 113781</td>\n",
        "      <td> 151.5500</td>\n",
        "      <td> C22 C26</td>\n",
        "      <td> S</td>\n",
        "      <td>  11</td>\n",
        "      <td> NaN</td>\n",
        "      <td> Montreal, PQ / Chesterville, ON</td>\n",
        "    </tr>\n",
        "    <tr>\n",
        "      <th>2</th>\n",
        "      <td> 1</td>\n",
        "      <td> 0</td>\n",
        "      <td>                    Allison, Miss. Helen Loraine</td>\n",
        "      <td> female</td>\n",
        "      <td>  2.0000</td>\n",
        "      <td> 1</td>\n",
        "      <td> 2</td>\n",
        "      <td> 113781</td>\n",
        "      <td> 151.5500</td>\n",
        "      <td> C22 C26</td>\n",
        "      <td> S</td>\n",
        "      <td> NaN</td>\n",
        "      <td> NaN</td>\n",
        "      <td> Montreal, PQ / Chesterville, ON</td>\n",
        "    </tr>\n",
        "    <tr>\n",
        "      <th>3</th>\n",
        "      <td> 1</td>\n",
        "      <td> 0</td>\n",
        "      <td>            Allison, Mr. Hudson Joshua Creighton</td>\n",
        "      <td>   male</td>\n",
        "      <td> 30.0000</td>\n",
        "      <td> 1</td>\n",
        "      <td> 2</td>\n",
        "      <td> 113781</td>\n",
        "      <td> 151.5500</td>\n",
        "      <td> C22 C26</td>\n",
        "      <td> S</td>\n",
        "      <td> NaN</td>\n",
        "      <td> 135</td>\n",
        "      <td> Montreal, PQ / Chesterville, ON</td>\n",
        "    </tr>\n",
        "    <tr>\n",
        "      <th>4</th>\n",
        "      <td> 1</td>\n",
        "      <td> 0</td>\n",
        "      <td> Allison, Mrs. Hudson J C (Bessie Waldo Daniels)</td>\n",
        "      <td> female</td>\n",
        "      <td> 25.0000</td>\n",
        "      <td> 1</td>\n",
        "      <td> 2</td>\n",
        "      <td> 113781</td>\n",
        "      <td> 151.5500</td>\n",
        "      <td> C22 C26</td>\n",
        "      <td> S</td>\n",
        "      <td> NaN</td>\n",
        "      <td> NaN</td>\n",
        "      <td> Montreal, PQ / Chesterville, ON</td>\n",
        "    </tr>\n",
        "  </tbody>\n",
        "</table>\n",
        "</div>"
       ],
       "metadata": {},
       "output_type": "pyout",
       "prompt_number": 3,
       "text": [
        "   pclass  survived                                             name     sex  \\\n",
        "0       1         1                    Allen, Miss. Elisabeth Walton  female   \n",
        "1       1         1                   Allison, Master. Hudson Trevor    male   \n",
        "2       1         0                     Allison, Miss. Helen Loraine  female   \n",
        "3       1         0             Allison, Mr. Hudson Joshua Creighton    male   \n",
        "4       1         0  Allison, Mrs. Hudson J C (Bessie Waldo Daniels)  female   \n",
        "\n",
        "       age  sibsp  parch  ticket      fare    cabin embarked boat  body  \\\n",
        "0  29.0000      0      0   24160  211.3375       B5        S    2   NaN   \n",
        "1   0.9167      1      2  113781  151.5500  C22 C26        S   11   NaN   \n",
        "2   2.0000      1      2  113781  151.5500  C22 C26        S  NaN   NaN   \n",
        "3  30.0000      1      2  113781  151.5500  C22 C26        S  NaN   135   \n",
        "4  25.0000      1      2  113781  151.5500  C22 C26        S  NaN   NaN   \n",
        "\n",
        "                         home.dest  \n",
        "0                     St Louis, MO  \n",
        "1  Montreal, PQ / Chesterville, ON  \n",
        "2  Montreal, PQ / Chesterville, ON  \n",
        "3  Montreal, PQ / Chesterville, ON  \n",
        "4  Montreal, PQ / Chesterville, ON  "
       ]
      }
     ],
     "prompt_number": 3
    },
    {
     "cell_type": "code",
     "collapsed": false,
     "input": [
      "titanic_data = titanic.copy()[['pclass', 'survived', 'sex', 'age', 'sibsp', 'parch', 'fare', 'embarked']]\n",
      "\n",
      "titanic_data['female'] = titanic_data.sex.replace(to_replace= ['male', 'female'], value= [0, 1], regex= False)\n",
      "titanic_data = titanic_data.drop('sex', axis=1)"
     ],
     "language": "python",
     "metadata": {},
     "outputs": [],
     "prompt_number": 4
    },
    {
     "cell_type": "code",
     "collapsed": false,
     "input": [
      "titanic_data.embarked.value_counts()"
     ],
     "language": "python",
     "metadata": {},
     "outputs": [
      {
       "metadata": {},
       "output_type": "pyout",
       "prompt_number": 5,
       "text": [
        "S    914\n",
        "C    270\n",
        "Q    123\n",
        "dtype: int64"
       ]
      }
     ],
     "prompt_number": 5
    },
    {
     "cell_type": "code",
     "collapsed": false,
     "input": [
      "titanic_data.embarked = titanic_data.embarked.replace({'S':0, 'C':1, 'Q':2})"
     ],
     "language": "python",
     "metadata": {},
     "outputs": [],
     "prompt_number": 6
    },
    {
     "cell_type": "code",
     "collapsed": true,
     "input": [
      "titanic_data = titanic_data.dropna(subset=['embarked'])"
     ],
     "language": "python",
     "metadata": {},
     "outputs": [],
     "prompt_number": 7
    },
    {
     "cell_type": "code",
     "collapsed": false,
     "input": [
      "from sklearn import preprocessing\n",
      "\n",
      "\n",
      "lb = preprocessing.LabelBinarizer()\n",
      "lb.fit(list(titanic_data.embarked.dropna()))\n",
      "embarked_classes = lb.transform(titanic_data.embarked.values)\n",
      "\n",
      "titanic_data['C'] = embarked_classes.T[1]\n",
      "titanic_data['Q'] = embarked_classes.T[2]\n",
      "titanic_data = titanic_data.drop('embarked', axis=1)"
     ],
     "language": "python",
     "metadata": {},
     "outputs": [],
     "prompt_number": 8
    },
    {
     "cell_type": "code",
     "collapsed": true,
     "input": [
      "X = titanic_data.dropna()\n",
      "y = X.pop('survived')"
     ],
     "language": "python",
     "metadata": {},
     "outputs": [],
     "prompt_number": 9
    },
    {
     "cell_type": "code",
     "collapsed": false,
     "input": [
      "from sklearn import cross_validation\n",
      "from sklearn.preprocessing import normalize\n",
      "from sklearn import grid_search\n",
      "\n",
      "X_normalized = normalize(X.values.astype(float)) \n",
      "\n",
      "X_train, X_test, y_train, y_test = cross_validation.train_test_split(X_normalized, y)"
     ],
     "language": "python",
     "metadata": {},
     "outputs": [],
     "prompt_number": 10
    },
    {
     "cell_type": "code",
     "collapsed": false,
     "input": [
      "from sklearn import svm\n",
      "\n",
      "svc1 = svm.SVC(kernel='linear')\n",
      "svc1.fit(X_train, y_train)\n",
      "\n",
      "svc1.score(X_train, y_train)"
     ],
     "language": "python",
     "metadata": {},
     "outputs": [
      {
       "metadata": {},
       "output_type": "pyout",
       "prompt_number": 11,
       "text": [
        "0.67391304347826086"
       ]
      }
     ],
     "prompt_number": 11
    },
    {
     "cell_type": "code",
     "collapsed": false,
     "input": [
      "svc1.score(X_test, y_test)"
     ],
     "language": "python",
     "metadata": {},
     "outputs": [
      {
       "metadata": {},
       "output_type": "pyout",
       "prompt_number": 12,
       "text": [
        "0.68582375478927204"
       ]
      }
     ],
     "prompt_number": 12
    },
    {
     "cell_type": "code",
     "collapsed": false,
     "input": [
      "parameters = {'kernel':('linear', 'rbf', 'poly'), 'C':[0.1, 0.5, 1, 5, 10]}\n",
      "\n",
      "np.random.seed(3535)\n",
      "gscv1 = grid_search.GridSearchCV(svm.SVC(), parameters, cv= 5) # default is 3-fold\n",
      "gscv1.fit(X_normalized, y)    "
     ],
     "language": "python",
     "metadata": {},
     "outputs": [
      {
       "metadata": {},
       "output_type": "pyout",
       "prompt_number": 13,
       "text": [
        "GridSearchCV(cv=5,\n",
        "       estimator=SVC(C=1.0, cache_size=200, class_weight=None, coef0=0.0, degree=3, gamma=0.0,\n",
        "  kernel='rbf', max_iter=-1, probability=False, random_state=None,\n",
        "  shrinking=True, tol=0.001, verbose=False),\n",
        "       fit_params={}, iid=True, loss_func=None, n_jobs=1,\n",
        "       param_grid={'C': [0.1, 0.5, 1, 5, 10], 'kernel': ('linear', 'rbf', 'poly')},\n",
        "       pre_dispatch='2*n_jobs', refit=True, score_func=None, scoring=None,\n",
        "       verbose=0)"
       ]
      }
     ],
     "prompt_number": 13
    },
    {
     "cell_type": "code",
     "collapsed": false,
     "input": [
      "gscv1.best_estimator_"
     ],
     "language": "python",
     "metadata": {},
     "outputs": [
      {
       "metadata": {},
       "output_type": "pyout",
       "prompt_number": 14,
       "text": [
        "SVC(C=10, cache_size=200, class_weight=None, coef0=0.0, degree=3, gamma=0.0,\n",
        "  kernel='linear', max_iter=-1, probability=False, random_state=None,\n",
        "  shrinking=True, tol=0.001, verbose=False)"
       ]
      }
     ],
     "prompt_number": 14
    },
    {
     "cell_type": "code",
     "collapsed": false,
     "input": [
      "gscv1.best_score_"
     ],
     "language": "python",
     "metadata": {},
     "outputs": [
      {
       "metadata": {},
       "output_type": "pyout",
       "prompt_number": 15,
       "text": [
        "0.68935762224352826"
       ]
      }
     ],
     "prompt_number": 15
    },
    {
     "cell_type": "code",
     "collapsed": false,
     "input": [
      "gscv1.score(X_test, y_test)"
     ],
     "language": "python",
     "metadata": {},
     "outputs": [
      {
       "metadata": {},
       "output_type": "pyout",
       "prompt_number": 16,
       "text": [
        "0.70498084291187735"
       ]
      }
     ],
     "prompt_number": 16
    },
    {
     "cell_type": "code",
     "collapsed": false,
     "input": [
      "from sklearn.linear_model import LogisticRegression\n",
      "\n",
      "lrmod = LogisticRegression(C= 10000)  # low penalty\n",
      "lrmod.fit(X_train, y_train)"
     ],
     "language": "python",
     "metadata": {},
     "outputs": [
      {
       "metadata": {},
       "output_type": "pyout",
       "prompt_number": 17,
       "text": [
        "LogisticRegression(C=10000, class_weight=None, dual=False, fit_intercept=True,\n",
        "          intercept_scaling=1, penalty='l2', random_state=None, tol=0.0001)"
       ]
      }
     ],
     "prompt_number": 17
    },
    {
     "cell_type": "code",
     "collapsed": false,
     "input": [
      "lrmod.score(X_train, y_train)"
     ],
     "language": "python",
     "metadata": {},
     "outputs": [
      {
       "metadata": {},
       "output_type": "pyout",
       "prompt_number": 18,
       "text": [
        "0.77877237851662406"
       ]
      }
     ],
     "prompt_number": 18
    },
    {
     "cell_type": "code",
     "collapsed": false,
     "input": [
      "lrmod.score(X_test, y_test)"
     ],
     "language": "python",
     "metadata": {},
     "outputs": [
      {
       "metadata": {},
       "output_type": "pyout",
       "prompt_number": 19,
       "text": [
        "0.73946360153256707"
       ]
      }
     ],
     "prompt_number": 19
    },
    {
     "cell_type": "code",
     "collapsed": false,
     "input": [
      "parameters2 = {'penalty':('l1', 'l2'), 'C':[0.0001, 0.001, 0.01, 0.1, 1, 10, 100, 1000, 10000], \n",
      "               'intercept_scaling':[1, 10, 50, 100, 500, 1000]}  # increase intercept_scaling to minimize the penalty on the intercept\n",
      "\n",
      "np.random.seed(3535)\n",
      "gscv2 = grid_search.GridSearchCV(LogisticRegression(), parameters2, cv= 5) # default is 3-fold\n",
      "gscv2.fit(X_normalized, y)   "
     ],
     "language": "python",
     "metadata": {},
     "outputs": [
      {
       "metadata": {},
       "output_type": "pyout",
       "prompt_number": 20,
       "text": [
        "GridSearchCV(cv=5,\n",
        "       estimator=LogisticRegression(C=1.0, class_weight=None, dual=False, fit_intercept=True,\n",
        "          intercept_scaling=1, penalty='l2', random_state=None, tol=0.0001),\n",
        "       fit_params={}, iid=True, loss_func=None, n_jobs=1,\n",
        "       param_grid={'penalty': ('l1', 'l2'), 'intercept_scaling': [1, 10, 50, 100, 500, 1000], 'C': [0.0001, 0.001, 0.01, 0.1, 1, 10, 100, 1000, 10000]},\n",
        "       pre_dispatch='2*n_jobs', refit=True, score_func=None, scoring=None,\n",
        "       verbose=0)"
       ]
      }
     ],
     "prompt_number": 20
    },
    {
     "cell_type": "code",
     "collapsed": false,
     "input": [
      "gscv2.best_estimator_"
     ],
     "language": "python",
     "metadata": {},
     "outputs": [
      {
       "metadata": {},
       "output_type": "pyout",
       "prompt_number": 21,
       "text": [
        "LogisticRegression(C=100, class_weight=None, dual=False, fit_intercept=True,\n",
        "          intercept_scaling=500, penalty='l1', random_state=None,\n",
        "          tol=0.0001)"
       ]
      }
     ],
     "prompt_number": 21
    },
    {
     "cell_type": "code",
     "collapsed": false,
     "input": [
      "gscv2.best_score_"
     ],
     "language": "python",
     "metadata": {},
     "outputs": [
      {
       "metadata": {},
       "output_type": "pyout",
       "prompt_number": 22,
       "text": [
        "0.73825503355704702"
       ]
      }
     ],
     "prompt_number": 22
    },
    {
     "cell_type": "code",
     "collapsed": false,
     "input": [
      "gscv2.score(X_test, y_test)"
     ],
     "language": "python",
     "metadata": {},
     "outputs": [
      {
       "metadata": {},
       "output_type": "pyout",
       "prompt_number": 23,
       "text": [
        "0.73180076628352486"
       ]
      }
     ],
     "prompt_number": 23
    },
    {
     "cell_type": "markdown",
     "metadata": {},
     "source": [
      "Logistic regression performed slightly better, and is more easily interpretable, as well as being less computationally intensive."
     ]
    },
    {
     "cell_type": "markdown",
     "metadata": {},
     "source": [
      "## Question 2\n",
      "\n",
      "The data in `prostate.data.txt` come from a study by Stamey et al. (1989), which examined the correlation between the level of prostate-specific antigen (`lpsa`) and a number of clinical measures in men who were about to receive a radical prostatectomy. The variables are log cancer volume (`lcavol`), log prostate weight (`lweight`), age, log of the amount of benign prostatic hyperplasia (`lbph`), seminal vesicle invasion (`svi`), log of capsular penetration (`lcp`), Gleason score (`gleason`), and percent of Gleason scores 4 or 5 (`pgg45`). \n",
      "\n",
      "1. Select (your choice) five competing 3-variable linear regression models, and compare them using AIC, five-fold and ten-fold cross-validation. Discuss the results.\n",
      "\n",
      "2. An alternative method for model assessment is to fit the models on a set of bootstrap samples, and then keep track of how well it predicts the original training set. If $\\hat{f}^b(x_i)$ is the predicted value at $x_i$, from the model fitted to the bth bootstrap dataset, such an estimate is:\n",
      "$$\\frac{1}{B} \\frac{1}{N} \\sum_{b=1}^B \\sum_{i=1}^N L(y_i,\\hat{f}^b(x_i)) $$\n",
      "However, because the bootstrap samples tend to contain many observations in common among the set of bootstrap samples, this estimate will tend to underestimate the true error rate. The so-called .632 estimator aleviates this bias by returning a weighted average of the training error (average loss over the training sample) and the leave-one-out (LOO) bootstrap error:\n",
      "$$\\hat{err}^{(.632)} = 0.368 \\, \\bar{err} + 0.632 \\, \\hat{err}^{(1)}$$\n",
      "where:\n",
      "$$\\bar{err} = \\frac{1}{N}\\sum_{i=1}^N L(y_i, \\hat{f}(x_i)) $$\n",
      "Repeat the assesment from part (1) using the .632 estimator, and compare the result to the other approaches."
     ]
    },
    {
     "cell_type": "code",
     "collapsed": false,
     "input": [
      "# Part 1\n",
      "prostate = pd.read_table('/Users/fonnescj/Teaching/Bios366/data/prostate.data.txt', index_col=0)\n",
      "prostate.head()"
     ],
     "language": "python",
     "metadata": {},
     "outputs": [
      {
       "html": [
        "<div style=\"max-height:1000px;max-width:1500px;overflow:auto;\">\n",
        "<table border=\"1\" class=\"dataframe\">\n",
        "  <thead>\n",
        "    <tr style=\"text-align: right;\">\n",
        "      <th></th>\n",
        "      <th>lcavol</th>\n",
        "      <th>lweight</th>\n",
        "      <th>age</th>\n",
        "      <th>lbph</th>\n",
        "      <th>svi</th>\n",
        "      <th>lcp</th>\n",
        "      <th>gleason</th>\n",
        "      <th>pgg45</th>\n",
        "      <th>lpsa</th>\n",
        "      <th>train</th>\n",
        "    </tr>\n",
        "  </thead>\n",
        "  <tbody>\n",
        "    <tr>\n",
        "      <th>1</th>\n",
        "      <td>-0.579818</td>\n",
        "      <td> 2.769459</td>\n",
        "      <td> 50</td>\n",
        "      <td>-1.386294</td>\n",
        "      <td> 0</td>\n",
        "      <td>-1.386294</td>\n",
        "      <td> 6</td>\n",
        "      <td>  0</td>\n",
        "      <td>-0.430783</td>\n",
        "      <td> T</td>\n",
        "    </tr>\n",
        "    <tr>\n",
        "      <th>2</th>\n",
        "      <td>-0.994252</td>\n",
        "      <td> 3.319626</td>\n",
        "      <td> 58</td>\n",
        "      <td>-1.386294</td>\n",
        "      <td> 0</td>\n",
        "      <td>-1.386294</td>\n",
        "      <td> 6</td>\n",
        "      <td>  0</td>\n",
        "      <td>-0.162519</td>\n",
        "      <td> T</td>\n",
        "    </tr>\n",
        "    <tr>\n",
        "      <th>3</th>\n",
        "      <td>-0.510826</td>\n",
        "      <td> 2.691243</td>\n",
        "      <td> 74</td>\n",
        "      <td>-1.386294</td>\n",
        "      <td> 0</td>\n",
        "      <td>-1.386294</td>\n",
        "      <td> 7</td>\n",
        "      <td> 20</td>\n",
        "      <td>-0.162519</td>\n",
        "      <td> T</td>\n",
        "    </tr>\n",
        "    <tr>\n",
        "      <th>4</th>\n",
        "      <td>-1.203973</td>\n",
        "      <td> 3.282789</td>\n",
        "      <td> 58</td>\n",
        "      <td>-1.386294</td>\n",
        "      <td> 0</td>\n",
        "      <td>-1.386294</td>\n",
        "      <td> 6</td>\n",
        "      <td>  0</td>\n",
        "      <td>-0.162519</td>\n",
        "      <td> T</td>\n",
        "    </tr>\n",
        "    <tr>\n",
        "      <th>5</th>\n",
        "      <td> 0.751416</td>\n",
        "      <td> 3.432373</td>\n",
        "      <td> 62</td>\n",
        "      <td>-1.386294</td>\n",
        "      <td> 0</td>\n",
        "      <td>-1.386294</td>\n",
        "      <td> 6</td>\n",
        "      <td>  0</td>\n",
        "      <td> 0.371564</td>\n",
        "      <td> T</td>\n",
        "    </tr>\n",
        "  </tbody>\n",
        "</table>\n",
        "</div>"
       ],
       "metadata": {},
       "output_type": "pyout",
       "prompt_number": 24,
       "text": [
        "     lcavol   lweight  age      lbph  svi       lcp  gleason  pgg45      lpsa  \\\n",
        "1 -0.579818  2.769459   50 -1.386294    0 -1.386294        6      0 -0.430783   \n",
        "2 -0.994252  3.319626   58 -1.386294    0 -1.386294        6      0 -0.162519   \n",
        "3 -0.510826  2.691243   74 -1.386294    0 -1.386294        7     20 -0.162519   \n",
        "4 -1.203973  3.282789   58 -1.386294    0 -1.386294        6      0 -0.162519   \n",
        "5  0.751416  3.432373   62 -1.386294    0 -1.386294        6      0  0.371564   \n",
        "\n",
        "  train  \n",
        "1     T  \n",
        "2     T  \n",
        "3     T  \n",
        "4     T  \n",
        "5     T  "
       ]
      }
     ],
     "prompt_number": 24
    },
    {
     "cell_type": "code",
     "collapsed": false,
     "input": [
      "prostate.describe()"
     ],
     "language": "python",
     "metadata": {},
     "outputs": [
      {
       "html": [
        "<div style=\"max-height:1000px;max-width:1500px;overflow:auto;\">\n",
        "<table border=\"1\" class=\"dataframe\">\n",
        "  <thead>\n",
        "    <tr style=\"text-align: right;\">\n",
        "      <th></th>\n",
        "      <th>lcavol</th>\n",
        "      <th>lweight</th>\n",
        "      <th>age</th>\n",
        "      <th>lbph</th>\n",
        "      <th>svi</th>\n",
        "      <th>lcp</th>\n",
        "      <th>gleason</th>\n",
        "      <th>pgg45</th>\n",
        "      <th>lpsa</th>\n",
        "    </tr>\n",
        "  </thead>\n",
        "  <tbody>\n",
        "    <tr>\n",
        "      <th>count</th>\n",
        "      <td> 97.000000</td>\n",
        "      <td> 97.000000</td>\n",
        "      <td> 97.000000</td>\n",
        "      <td> 97.000000</td>\n",
        "      <td> 97.000000</td>\n",
        "      <td> 97.000000</td>\n",
        "      <td> 97.000000</td>\n",
        "      <td>  97.000000</td>\n",
        "      <td> 97.000000</td>\n",
        "    </tr>\n",
        "    <tr>\n",
        "      <th>mean</th>\n",
        "      <td>  1.350010</td>\n",
        "      <td>  3.628943</td>\n",
        "      <td> 63.865979</td>\n",
        "      <td>  0.100356</td>\n",
        "      <td>  0.216495</td>\n",
        "      <td> -0.179366</td>\n",
        "      <td>  6.752577</td>\n",
        "      <td>  24.381443</td>\n",
        "      <td>  2.478387</td>\n",
        "    </tr>\n",
        "    <tr>\n",
        "      <th>std</th>\n",
        "      <td>  1.178625</td>\n",
        "      <td>  0.428411</td>\n",
        "      <td>  7.445117</td>\n",
        "      <td>  1.450807</td>\n",
        "      <td>  0.413995</td>\n",
        "      <td>  1.398250</td>\n",
        "      <td>  0.722134</td>\n",
        "      <td>  28.204035</td>\n",
        "      <td>  1.154329</td>\n",
        "    </tr>\n",
        "    <tr>\n",
        "      <th>min</th>\n",
        "      <td> -1.347074</td>\n",
        "      <td>  2.374906</td>\n",
        "      <td> 41.000000</td>\n",
        "      <td> -1.386294</td>\n",
        "      <td>  0.000000</td>\n",
        "      <td> -1.386294</td>\n",
        "      <td>  6.000000</td>\n",
        "      <td>   0.000000</td>\n",
        "      <td> -0.430783</td>\n",
        "    </tr>\n",
        "    <tr>\n",
        "      <th>25%</th>\n",
        "      <td>  0.512824</td>\n",
        "      <td>  3.375880</td>\n",
        "      <td> 60.000000</td>\n",
        "      <td> -1.386294</td>\n",
        "      <td>  0.000000</td>\n",
        "      <td> -1.386294</td>\n",
        "      <td>  6.000000</td>\n",
        "      <td>   0.000000</td>\n",
        "      <td>  1.731656</td>\n",
        "    </tr>\n",
        "    <tr>\n",
        "      <th>50%</th>\n",
        "      <td>  1.446919</td>\n",
        "      <td>  3.623007</td>\n",
        "      <td> 65.000000</td>\n",
        "      <td>  0.300105</td>\n",
        "      <td>  0.000000</td>\n",
        "      <td> -0.798508</td>\n",
        "      <td>  7.000000</td>\n",
        "      <td>  15.000000</td>\n",
        "      <td>  2.591516</td>\n",
        "    </tr>\n",
        "    <tr>\n",
        "      <th>75%</th>\n",
        "      <td>  2.127041</td>\n",
        "      <td>  3.876396</td>\n",
        "      <td> 68.000000</td>\n",
        "      <td>  1.558145</td>\n",
        "      <td>  0.000000</td>\n",
        "      <td>  1.178655</td>\n",
        "      <td>  7.000000</td>\n",
        "      <td>  40.000000</td>\n",
        "      <td>  3.056357</td>\n",
        "    </tr>\n",
        "    <tr>\n",
        "      <th>max</th>\n",
        "      <td>  3.821004</td>\n",
        "      <td>  4.780383</td>\n",
        "      <td> 79.000000</td>\n",
        "      <td>  2.326302</td>\n",
        "      <td>  1.000000</td>\n",
        "      <td>  2.904165</td>\n",
        "      <td>  9.000000</td>\n",
        "      <td> 100.000000</td>\n",
        "      <td>  5.582932</td>\n",
        "    </tr>\n",
        "  </tbody>\n",
        "</table>\n",
        "</div>"
       ],
       "metadata": {},
       "output_type": "pyout",
       "prompt_number": 25,
       "text": [
        "          lcavol    lweight        age       lbph        svi        lcp  \\\n",
        "count  97.000000  97.000000  97.000000  97.000000  97.000000  97.000000   \n",
        "mean    1.350010   3.628943  63.865979   0.100356   0.216495  -0.179366   \n",
        "std     1.178625   0.428411   7.445117   1.450807   0.413995   1.398250   \n",
        "min    -1.347074   2.374906  41.000000  -1.386294   0.000000  -1.386294   \n",
        "25%     0.512824   3.375880  60.000000  -1.386294   0.000000  -1.386294   \n",
        "50%     1.446919   3.623007  65.000000   0.300105   0.000000  -0.798508   \n",
        "75%     2.127041   3.876396  68.000000   1.558145   0.000000   1.178655   \n",
        "max     3.821004   4.780383  79.000000   2.326302   1.000000   2.904165   \n",
        "\n",
        "         gleason       pgg45       lpsa  \n",
        "count  97.000000   97.000000  97.000000  \n",
        "mean    6.752577   24.381443   2.478387  \n",
        "std     0.722134   28.204035   1.154329  \n",
        "min     6.000000    0.000000  -0.430783  \n",
        "25%     6.000000    0.000000   1.731656  \n",
        "50%     7.000000   15.000000   2.591516  \n",
        "75%     7.000000   40.000000   3.056357  \n",
        "max     9.000000  100.000000   5.582932  "
       ]
      }
     ],
     "prompt_number": 25
    },
    {
     "cell_type": "code",
     "collapsed": false,
     "input": [
      "from pandas.tools.plotting import scatter_matrix\n",
      "scatter_matrix(prostate, alpha=0.8, figsize=(12, 12), diagonal=\"kde\", grid=False);"
     ],
     "language": "python",
     "metadata": {},
     "outputs": [
      {
       "metadata": {},
       "output_type": "display_data",
       "png": "[encoded data removed]",
       "text": [
        "<matplotlib.figure.Figure at 0x108ed5358>"
       ]
      }
     ],
     "prompt_number": 26
    },
    {
     "cell_type": "code",
     "collapsed": false,
     "input": [
      "prostate.columns"
     ],
     "language": "python",
     "metadata": {},
     "outputs": [
      {
       "metadata": {},
       "output_type": "pyout",
       "prompt_number": 27,
       "text": [
        "Index(['lcavol', 'lweight', 'age', 'lbph', 'svi', 'lcp', 'gleason', 'pgg45', 'lpsa', 'train'], dtype='object')"
       ]
      }
     ],
     "prompt_number": 27
    },
    {
     "cell_type": "code",
     "collapsed": true,
     "input": [
      "aic = lambda rss, n, k: n*np.log(float(rss)/n) + 2*k"
     ],
     "language": "python",
     "metadata": {},
     "outputs": [],
     "prompt_number": 28
    },
    {
     "cell_type": "code",
     "collapsed": false,
     "input": [
      "from sklearn import linear_model\n",
      "\n",
      "subsets = [['lcavol', 'lweight', 'age'],\n",
      "           ['lweight', 'age', 'lbph'],\n",
      "           ['lbph', 'svi', 'lcp'],\n",
      "           ['age', 'gleason', 'pgg45'],\n",
      "           ['lcavol', 'svi', 'pgg45']]\n",
      "\n",
      "y = prostate.lpsa"
     ],
     "language": "python",
     "metadata": {},
     "outputs": [],
     "prompt_number": 29
    },
    {
     "cell_type": "code",
     "collapsed": true,
     "input": [
      "aic_values = []\n",
      "for i,xvars in enumerate(subsets):\n",
      "    \n",
      "    X = prostate[xvars]\n",
      "    regmod = linear_model.LinearRegression()\n",
      "    regmod.fit(X, y)\n",
      "    rss = ((regmod.predict(X) - y) ** 2).sum()\n",
      "    aic_values.append(aic(rss, len(y), 3))"
     ],
     "language": "python",
     "metadata": {},
     "outputs": [],
     "prompt_number": 30
    },
    {
     "cell_type": "code",
     "collapsed": false,
     "input": [
      "aic_values"
     ],
     "language": "python",
     "metadata": {},
     "outputs": [
      {
       "metadata": {},
       "output_type": "pyout",
       "prompt_number": 31,
       "text": [
        "[-56.17644706056128,\n",
        " 12.576322548963725,\n",
        " -19.645839021059242,\n",
        " 12.788958805386617,\n",
        " -52.180204316836722]"
       ]
      }
     ],
     "prompt_number": 31
    },
    {
     "cell_type": "code",
     "collapsed": false,
     "input": [
      "v = np.exp(-0.5*np.array(aic_values))\n",
      "aic_weights = v / v.sum()\n",
      "aic_weights.round(2)"
     ],
     "language": "python",
     "metadata": {},
     "outputs": [
      {
       "metadata": {},
       "output_type": "pyout",
       "prompt_number": 32,
       "text": [
        "array([ 0.88,  0.  ,  0.  ,  0.  ,  0.12])"
       ]
      }
     ],
     "prompt_number": 32
    },
    {
     "cell_type": "code",
     "collapsed": false,
     "input": [
      "five_fold = cross_validation.KFold(len(y), n_folds=5)\n",
      "ten_fold = cross_validation.KFold(len(y), n_folds=10)"
     ],
     "language": "python",
     "metadata": {},
     "outputs": [],
     "prompt_number": 33
    },
    {
     "cell_type": "code",
     "collapsed": false,
     "input": [
      "X.head()"
     ],
     "language": "python",
     "metadata": {},
     "outputs": [
      {
       "html": [
        "<div style=\"max-height:1000px;max-width:1500px;overflow:auto;\">\n",
        "<table border=\"1\" class=\"dataframe\">\n",
        "  <thead>\n",
        "    <tr style=\"text-align: right;\">\n",
        "      <th></th>\n",
        "      <th>lcavol</th>\n",
        "      <th>svi</th>\n",
        "      <th>pgg45</th>\n",
        "    </tr>\n",
        "  </thead>\n",
        "  <tbody>\n",
        "    <tr>\n",
        "      <th>1</th>\n",
        "      <td>-0.579818</td>\n",
        "      <td> 0</td>\n",
        "      <td>  0</td>\n",
        "    </tr>\n",
        "    <tr>\n",
        "      <th>2</th>\n",
        "      <td>-0.994252</td>\n",
        "      <td> 0</td>\n",
        "      <td>  0</td>\n",
        "    </tr>\n",
        "    <tr>\n",
        "      <th>3</th>\n",
        "      <td>-0.510826</td>\n",
        "      <td> 0</td>\n",
        "      <td> 20</td>\n",
        "    </tr>\n",
        "    <tr>\n",
        "      <th>4</th>\n",
        "      <td>-1.203973</td>\n",
        "      <td> 0</td>\n",
        "      <td>  0</td>\n",
        "    </tr>\n",
        "    <tr>\n",
        "      <th>5</th>\n",
        "      <td> 0.751416</td>\n",
        "      <td> 0</td>\n",
        "      <td>  0</td>\n",
        "    </tr>\n",
        "  </tbody>\n",
        "</table>\n",
        "</div>"
       ],
       "metadata": {},
       "output_type": "pyout",
       "prompt_number": 34,
       "text": [
        "     lcavol  svi  pgg45\n",
        "1 -0.579818    0      0\n",
        "2 -0.994252    0      0\n",
        "3 -0.510826    0     20\n",
        "4 -1.203973    0      0\n",
        "5  0.751416    0      0"
       ]
      }
     ],
     "prompt_number": 34
    },
    {
     "cell_type": "code",
     "collapsed": false,
     "input": [
      "five_fold_scores = []\n",
      "for i,xvars in enumerate(subsets):\n",
      "    \n",
      "    X = prostate[xvars]\n",
      "    regmod = linear_model.LinearRegression()\n",
      "    \n",
      "    scores = cross_validation.cross_val_score(regmod, X, y, scoring='mean_squared_error', cv=five_fold)\n",
      "    \n",
      "    five_fold_scores.append(scores.mean())"
     ],
     "language": "python",
     "metadata": {},
     "outputs": [],
     "prompt_number": 35
    },
    {
     "cell_type": "markdown",
     "metadata": {},
     "source": [
      "Note that scikit-learn's MSE is negative."
     ]
    },
    {
     "cell_type": "code",
     "collapsed": false,
     "input": [
      "five_fold_scores"
     ],
     "language": "python",
     "metadata": {},
     "outputs": [
      {
       "metadata": {},
       "output_type": "pyout",
       "prompt_number": 36,
       "text": [
        "[-0.89487595018835564,\n",
        " -1.8409138632046385,\n",
        " -1.5503052538886313,\n",
        " -1.8835060063515872,\n",
        " -0.97575320468032734]"
       ]
      }
     ],
     "prompt_number": 36
    },
    {
     "cell_type": "code",
     "collapsed": true,
     "input": [
      "ten_fold_scores = []\n",
      "for i,xvars in enumerate(subsets):\n",
      "    \n",
      "    X = prostate[xvars]\n",
      "    regmod = linear_model.LinearRegression()\n",
      "    \n",
      "    scores = cross_validation.cross_val_score(regmod, X, y, scoring='mean_squared_error', cv=ten_fold)\n",
      "    \n",
      "    ten_fold_scores.append(scores.mean())"
     ],
     "language": "python",
     "metadata": {},
     "outputs": [],
     "prompt_number": 37
    },
    {
     "cell_type": "code",
     "collapsed": false,
     "input": [
      "ten_fold_scores"
     ],
     "language": "python",
     "metadata": {},
     "outputs": [
      {
       "metadata": {},
       "output_type": "pyout",
       "prompt_number": 38,
       "text": [
        "[-0.728807041483442,\n",
        " -1.4900220916717226,\n",
        " -1.1737795318460531,\n",
        " -1.4894535145600447,\n",
        " -0.83099392906008107]"
       ]
      }
     ],
     "prompt_number": 38
    },
    {
     "cell_type": "markdown",
     "metadata": {},
     "source": [
      "The results for each are similar, and it can be shown that AIC is equivalent to a cross-validation outcome. AIC are more easily interpretable, since they can be turned into model probabilities."
     ]
    },
    {
     "cell_type": "code",
     "collapsed": false,
     "input": [
      "X.index.isin(np.random.choice(X.index, len(X)))^True"
     ],
     "language": "python",
     "metadata": {},
     "outputs": [
      {
       "metadata": {},
       "output_type": "pyout",
       "prompt_number": 39,
       "text": [
        "array([False, False, False, False, False,  True, False, False,  True,\n",
        "       False,  True, False,  True, False,  True,  True, False,  True,\n",
        "        True,  True, False,  True, False, False,  True, False,  True,\n",
        "        True, False, False,  True,  True, False, False, False, False,\n",
        "       False, False, False, False,  True, False, False,  True, False,\n",
        "       False, False, False, False, False, False,  True,  True,  True,\n",
        "       False, False, False, False, False,  True, False, False, False,\n",
        "       False,  True, False, False,  True, False, False,  True, False,\n",
        "        True,  True, False,  True, False, False,  True, False, False,\n",
        "       False,  True, False,  True,  True,  True, False, False, False,\n",
        "       False, False, False, False, False,  True,  True], dtype=bool)"
       ]
      }
     ],
     "prompt_number": 39
    },
    {
     "cell_type": "code",
     "collapsed": false,
     "input": [
      "# Part 2\n",
      "B = 50\n",
      "scores_632 = []\n",
      "for i,xvars in enumerate(subsets):\n",
      "    \n",
      "    # Calculate bootstrap sample indices\n",
      "    X = prostate[xvars].values\n",
      "    y_ = y.values\n",
      "    bootstrap_ind = [np.random.choice(range(len(X)), len(X)) for _ in range(B)]\n",
      "    \n",
      "    # Fit models to bootstrap samples\n",
      "    regmod = linear_model.LinearRegression()\n",
      "    bootstrap_fits = [regmod.fit(X[i], y_[i]) for i in bootstrap_ind]\n",
      "\n",
      "    # Calculate loss for each observation over models that did not use it to fit the model\n",
      "    loss = [np.mean([(regmod.predict(X[i]) - y_[i])**2 for b in range(B) if i not in bootstrap_ind[b]]) \n",
      "                                                            for i in range(len(X))]\n",
      "    # LOO error\n",
      "    err_1 = np.mean(loss)\n",
      "    \n",
      "    # Naive (training) error\n",
      "    err_bar = ((regmod.fit(X, y_).predict(X) - y_)**2).mean()\n",
      "    \n",
      "    scores_632.append(err_bar)"
     ],
     "language": "python",
     "metadata": {},
     "outputs": [],
     "prompt_number": 40
    },
    {
     "cell_type": "code",
     "collapsed": false,
     "input": [
      "scores_632"
     ],
     "language": "python",
     "metadata": {},
     "outputs": [
      {
       "metadata": {},
       "output_type": "pyout",
       "prompt_number": 41,
       "text": [
        "[0.52676839796284325,\n",
        " 1.0701481958523336,\n",
        " 0.76767401697888016,\n",
        " 1.0724966690506299,\n",
        " 0.54892364856730935]"
       ]
      }
     ],
     "prompt_number": 41
    },
    {
     "cell_type": "markdown",
     "metadata": {},
     "source": [
      "Note that the above uses MSE and not negative MSE, so the lower values are better here. The results are comparable among the models."
     ]
    },
    {
     "cell_type": "code",
     "collapsed": false,
     "input": [
      "plt.plot(five_fold_scores)\n",
      "plt.plot(ten_fold_scores)\n",
      "plt.plot(-np.array(scores_632))"
     ],
     "language": "python",
     "metadata": {},
     "outputs": [
      {
       "metadata": {},
       "output_type": "pyout",
       "prompt_number": 42,
       "text": [
        "[<matplotlib.lines.Line2D at 0x10c5ba278>]"
       ]
      },
      {
       "metadata": {},
       "output_type": "display_data",
       "png": "[encoded data removed]",
       "text": [
        "<matplotlib.figure.Figure at 0x10c73cc50>"
       ]
      }
     ],
     "prompt_number": 42
    },
    {
     "cell_type": "markdown",
     "metadata": {},
     "source": [
      "## Question 3\n",
      "\n",
      "Fit a series of random-forest classifiers to the very low birthweight infant data (`vlbw.csv`), to explore the sensitivity to the parameter `m`, the number of variables considered for splitting at each step. Plot both the out-of-bag error as well as the test error against a suitably-chosen range of values for `m`."
     ]
    },
    {
     "cell_type": "code",
     "collapsed": false,
     "input": [
      "vlbw = pd.read_csv('/Users/fonnescj/Teaching/Bios366/data/vlbw.csv', index_col=0)\n",
      "vlbw.ix[1]"
     ],
     "language": "python",
     "metadata": {},
     "outputs": [
      {
       "metadata": {},
       "output_type": "pyout",
       "prompt_number": 43,
       "text": [
        "birth             81.511\n",
        "exit              81.604\n",
        "hospstay              34\n",
        "lowph                NaN\n",
        "pltct                100\n",
        "race               white\n",
        "bwt                 1250\n",
        "gest                  35\n",
        "inout       born at Duke\n",
        "twn                    0\n",
        "lol                  NaN\n",
        "magsulf              NaN\n",
        "meth                   0\n",
        "toc                    0\n",
        "delivery       abdominal\n",
        "apg1                   8\n",
        "vent                   0\n",
        "pneumo                 0\n",
        "pda                    0\n",
        "cld                    0\n",
        "pvh                  NaN\n",
        "ivh                  NaN\n",
        "ipe                  NaN\n",
        "year            81.51196\n",
        "sex               female\n",
        "dead                   0\n",
        "Name: 1, dtype: object"
       ]
      }
     ],
     "prompt_number": 43
    },
    {
     "cell_type": "markdown",
     "metadata": {},
     "source": [
      "Replace non-numeric values with numeric categories"
     ]
    },
    {
     "cell_type": "code",
     "collapsed": false,
     "input": [
      "vlbw.ipe.unique()"
     ],
     "language": "python",
     "metadata": {},
     "outputs": [
      {
       "metadata": {},
       "output_type": "pyout",
       "prompt_number": 44,
       "text": [
        "array([nan, 'absent', 'definite', 'possible'], dtype=object)"
       ]
      }
     ],
     "prompt_number": 44
    },
    {
     "cell_type": "code",
     "collapsed": false,
     "input": [
      "vlbw_numeric = vlbw.replace({'sex': {'female':0, 'male':1},\n",
      "             'delivery': {'abdominal':0, 'vaginal':1},\n",
      "             'inout': {'born at Duke':0, 'transported':1},\n",
      "             'race': {'white':0, 'black':1, 'native American':2, 'oriental':3},\n",
      "             'ivh': {'definite':1, 'absent':0, 'possible':1},\n",
      "             'ipe': {'definite':1, 'absent':0, 'possible':1},\n",
      "             'pvh': {'definite':1, 'absent':0, 'possible':1}})"
     ],
     "language": "python",
     "metadata": {},
     "outputs": [],
     "prompt_number": 45
    },
    {
     "cell_type": "code",
     "collapsed": false,
     "input": [
      "vlbw_numeric.isnull().mean(0).round(2)"
     ],
     "language": "python",
     "metadata": {},
     "outputs": [
      {
       "metadata": {},
       "output_type": "pyout",
       "prompt_number": 46,
       "text": [
        "birth       0.03\n",
        "exit        0.05\n",
        "hospstay    0.05\n",
        "lowph       0.09\n",
        "pltct       0.10\n",
        "race        0.04\n",
        "bwt         0.00\n",
        "gest        0.01\n",
        "inout       0.00\n",
        "twn         0.03\n",
        "lol         0.57\n",
        "magsulf     0.37\n",
        "meth        0.16\n",
        "toc         0.16\n",
        "delivery    0.03\n",
        "apg1        0.05\n",
        "vent        0.04\n",
        "pneumo      0.04\n",
        "pda         0.04\n",
        "cld         0.10\n",
        "pvh         0.22\n",
        "ivh         0.21\n",
        "ipe         0.21\n",
        "year        0.03\n",
        "sex         0.03\n",
        "dead        0.00\n",
        "dtype: float64"
       ]
      }
     ],
     "prompt_number": 46
    },
    {
     "cell_type": "markdown",
     "metadata": {},
     "source": [
      "We will drop variables that have a lot of missing values, as well as the response variables"
     ]
    },
    {
     "cell_type": "code",
     "collapsed": false,
     "input": [
      "vlbw_numeric = vlbw_numeric.drop(['lol', 'magsulf'], axis=1)"
     ],
     "language": "python",
     "metadata": {},
     "outputs": [],
     "prompt_number": 47
    },
    {
     "cell_type": "code",
     "collapsed": false,
     "input": [
      "vlbw_complete = vlbw_numeric[vlbw_numeric.ivh.notnull()]\n",
      "y = vlbw_complete.pop('ivh').values"
     ],
     "language": "python",
     "metadata": {},
     "outputs": [],
     "prompt_number": 48
    },
    {
     "cell_type": "markdown",
     "metadata": {},
     "source": [
      "Impute missing values with median"
     ]
    },
    {
     "cell_type": "code",
     "collapsed": true,
     "input": [
      "from sklearn.preprocessing import Imputer\n",
      "\n",
      "imp = Imputer(missing_values='NaN', strategy='median', axis=0)"
     ],
     "language": "python",
     "metadata": {},
     "outputs": [],
     "prompt_number": 49
    },
    {
     "cell_type": "code",
     "collapsed": false,
     "input": [
      "imp.fit(vlbw_complete)"
     ],
     "language": "python",
     "metadata": {},
     "outputs": [
      {
       "metadata": {},
       "output_type": "pyout",
       "prompt_number": 50,
       "text": [
        "Imputer(axis=0, copy=True, missing_values='NaN', strategy='median', verbose=0)"
       ]
      }
     ],
     "prompt_number": 50
    },
    {
     "cell_type": "code",
     "collapsed": false,
     "input": [
      "X = imp.transform(vlbw_complete)"
     ],
     "language": "python",
     "metadata": {},
     "outputs": [],
     "prompt_number": 51
    },
    {
     "cell_type": "code",
     "collapsed": false,
     "input": [
      "np.isnan(X).sum()"
     ],
     "language": "python",
     "metadata": {},
     "outputs": [
      {
       "metadata": {},
       "output_type": "pyout",
       "prompt_number": 52,
       "text": [
        "0"
       ]
      }
     ],
     "prompt_number": 52
    },
    {
     "cell_type": "code",
     "collapsed": true,
     "input": [
      "from sklearn.ensemble import RandomForestClassifier"
     ],
     "language": "python",
     "metadata": {},
     "outputs": [],
     "prompt_number": 53
    },
    {
     "cell_type": "code",
     "collapsed": true,
     "input": [
      "X_train, X_test, y_train, y_test = cross_validation.train_test_split(\n",
      "        X, y, test_size=0.4, random_state=0)"
     ],
     "language": "python",
     "metadata": {},
     "outputs": [],
     "prompt_number": 54
    },
    {
     "cell_type": "code",
     "collapsed": false,
     "input": [
      "m = [1, 3, 5, 10, 15, 20]\n",
      "\n",
      "oob_score = []\n",
      "test_score = []\n",
      "for mi in m:\n",
      "    \n",
      "    rfc = RandomForestClassifier(max_features=mi)\n",
      "    rfc.fit(X_train, y_train)\n",
      "    test_score.append(rfc.score(X_test, y_test))\n",
      "    \n",
      "    rfc = RandomForestClassifier(max_features=mi, oob_score=True)\n",
      "    rfc.fit(X_train, y_train)\n",
      "    oob_score.append(rfc.score(X_test, y_test))"
     ],
     "language": "python",
     "metadata": {},
     "outputs": [
      {
       "output_type": "stream",
       "stream": "stderr",
       "text": [
        "/Users/fonnescj/anaconda3/envs/py3/lib/python3.4/site-packages/sklearn/ensemble/forest.py:373: UserWarning: Some inputs do not have OOB scores. This probably means too few trees were used to compute any reliable oob estimates.\n",
        "  warn(\"Some inputs do not have OOB scores. \"\n",
        "/Users/fonnescj/anaconda3/envs/py3/lib/python3.4/site-packages/sklearn/ensemble/forest.py:373: UserWarning: Some inputs do not have OOB scores. This probably means too few trees were used to compute any reliable oob estimates.\n",
        "  warn(\"Some inputs do not have OOB scores. \"\n",
        "/Users/fonnescj/anaconda3/envs/py3/lib/python3.4/site-packages/sklearn/ensemble/forest.py:373: UserWarning: Some inputs do not have OOB scores. This probably means too few trees were used to compute any reliable oob estimates.\n",
        "  warn(\"Some inputs do not have OOB scores. \"\n"
       ]
      },
      {
       "output_type": "stream",
       "stream": "stderr",
       "text": [
        "/Users/fonnescj/anaconda3/envs/py3/lib/python3.4/site-packages/sklearn/ensemble/forest.py:373: UserWarning: Some inputs do not have OOB scores. This probably means too few trees were used to compute any reliable oob estimates.\n",
        "  warn(\"Some inputs do not have OOB scores. \"\n",
        "/Users/fonnescj/anaconda3/envs/py3/lib/python3.4/site-packages/sklearn/ensemble/forest.py:373: UserWarning: Some inputs do not have OOB scores. This probably means too few trees were used to compute any reliable oob estimates.\n",
        "  warn(\"Some inputs do not have OOB scores. \"\n",
        "/Users/fonnescj/anaconda3/envs/py3/lib/python3.4/site-packages/sklearn/ensemble/forest.py:373: UserWarning: Some inputs do not have OOB scores. This probably means too few trees were used to compute any reliable oob estimates.\n",
        "  warn(\"Some inputs do not have OOB scores. \"\n"
       ]
      }
     ],
     "prompt_number": 55
    },
    {
     "cell_type": "code",
     "collapsed": false,
     "input": [
      "plt.plot(m, oob_score)\n",
      "plt.plot(m, test_score)"
     ],
     "language": "python",
     "metadata": {},
     "outputs": [
      {
       "metadata": {},
       "output_type": "pyout",
       "prompt_number": 56,
       "text": [
        "[<matplotlib.lines.Line2D at 0x10dc6b358>]"
       ]
      },
      {
       "metadata": {},
       "output_type": "display_data",
       "png": "[encoded data removed]",
       "text": [
        "<matplotlib.figure.Figure at 0x10dc6b278>"
       ]
      }
     ],
     "prompt_number": 56
    },
    {
     "cell_type": "markdown",
     "metadata": {},
     "source": [
      "## Bonus: Question 4\n",
      "\n",
      "Use a grid search to optimize the number of estimators and max_depth for a Gradient Boosted Decision tree using the very low birthweight infant data. Plug this optimal ``max_depth`` into a *single* decision tree.  Does this single tree over-fit or under-fit the data? Repeat this for the Random Forest.  Construct a single decision tree using the ``max_depth`` which is optimal for the Random Forest.  Does this single tree over-fit or under-fit the data?"
     ]
    },
    {
     "cell_type": "code",
     "collapsed": false,
     "input": [
      "from sklearn import grid_search\n",
      "from sklearn.ensemble import GradientBoostingClassifier\n",
      "\n",
      "parameters = {'max_depth': [1, 2, 3, 5, 7], 'n_estimators': [25, 50, 100, 150]}\n",
      "gbc = GradientBoostingClassifier()\n",
      "gbc_cv = grid_search.GridSearchCV(gbc, parameters)"
     ],
     "language": "python",
     "metadata": {},
     "outputs": [],
     "prompt_number": 57
    },
    {
     "cell_type": "code",
     "collapsed": false,
     "input": [
      "gbc_cv.fit(X, y)"
     ],
     "language": "python",
     "metadata": {},
     "outputs": [
      {
       "metadata": {},
       "output_type": "pyout",
       "prompt_number": 58,
       "text": [
        "GridSearchCV(cv=None,\n",
        "       estimator=GradientBoostingClassifier(init=None, learning_rate=0.1, loss='deviance',\n",
        "              max_depth=3, max_features=None, max_leaf_nodes=None,\n",
        "              min_samples_leaf=1, min_samples_split=2, n_estimators=100,\n",
        "              random_state=None, subsample=1.0, verbose=0,\n",
        "              warm_start=False),\n",
        "       fit_params={}, iid=True, loss_func=None, n_jobs=1,\n",
        "       param_grid={'max_depth': [1, 2, 3, 5, 7], 'n_estimators': [25, 50, 100, 150]},\n",
        "       pre_dispatch='2*n_jobs', refit=True, score_func=None, scoring=None,\n",
        "       verbose=0)"
       ]
      }
     ],
     "prompt_number": 58
    },
    {
     "cell_type": "code",
     "collapsed": false,
     "input": [
      "best_gbc_params = gbc_cv.best_params_"
     ],
     "language": "python",
     "metadata": {},
     "outputs": [],
     "prompt_number": 59
    },
    {
     "cell_type": "code",
     "collapsed": false,
     "input": [
      "gbc_single = GradientBoostingClassifier(max_depth=best_gbc_params['max_depth'], \n",
      "                                        n_estimators=best_gbc_params['n_estimators'])\n",
      "gbc_single.fit(X_train, y_train)\n",
      "gbc_single.score(X_test, y_test)"
     ],
     "language": "python",
     "metadata": {},
     "outputs": [
      {
       "metadata": {},
       "output_type": "pyout",
       "prompt_number": 60,
       "text": [
        "0.86729857819905209"
       ]
      }
     ],
     "prompt_number": 60
    },
    {
     "cell_type": "code",
     "collapsed": false,
     "input": [
      "gbc_single.score(X_train, y_train)"
     ],
     "language": "python",
     "metadata": {},
     "outputs": [
      {
       "metadata": {},
       "output_type": "pyout",
       "prompt_number": 61,
       "text": [
        "0.84810126582278478"
       ]
      }
     ],
     "prompt_number": 61
    },
    {
     "cell_type": "code",
     "collapsed": true,
     "input": [
      "rfc = RandomForestClassifier()\n",
      "rf_cv = grid_search.GridSearchCV(rfc, parameters)"
     ],
     "language": "python",
     "metadata": {},
     "outputs": [],
     "prompt_number": 62
    },
    {
     "cell_type": "code",
     "collapsed": false,
     "input": [
      "rf_cv.fit(X, y)"
     ],
     "language": "python",
     "metadata": {},
     "outputs": [
      {
       "metadata": {},
       "output_type": "pyout",
       "prompt_number": 63,
       "text": [
        "GridSearchCV(cv=None,\n",
        "       estimator=RandomForestClassifier(bootstrap=True, compute_importances=None,\n",
        "            criterion='gini', max_depth=None, max_features='auto',\n",
        "            max_leaf_nodes=None, min_density=None, min_samples_leaf=1,\n",
        "            min_samples_split=2, n_estimators=10, n_jobs=1,\n",
        "            oob_score=False, random_state=None, verbose=0),\n",
        "       fit_params={}, iid=True, loss_func=None, n_jobs=1,\n",
        "       param_grid={'max_depth': [1, 2, 3, 5, 7], 'n_estimators': [25, 50, 100, 150]},\n",
        "       pre_dispatch='2*n_jobs', refit=True, score_func=None, scoring=None,\n",
        "       verbose=0)"
       ]
      }
     ],
     "prompt_number": 63
    },
    {
     "cell_type": "code",
     "collapsed": false,
     "input": [
      "best_rf_params = rf_cv.best_params_"
     ],
     "language": "python",
     "metadata": {},
     "outputs": [],
     "prompt_number": 64
    },
    {
     "cell_type": "code",
     "collapsed": false,
     "input": [
      "from sklearn import tree\n",
      "\n",
      "tree_classsifier = tree.DecisionTreeClassifier(max_depth=best_rf_params['max_depth'])\n",
      "tree_classsifier.fit(X_train, y_train)\n",
      "tree_classsifier.score(X_test, y_test)"
     ],
     "language": "python",
     "metadata": {},
     "outputs": [
      {
       "metadata": {},
       "output_type": "pyout",
       "prompt_number": 65,
       "text": [
        "0.80568720379146919"
       ]
      }
     ],
     "prompt_number": 65
    },
    {
     "cell_type": "code",
     "collapsed": false,
     "input": [
      "tree_classsifier.score(X_train, y_train)"
     ],
     "language": "python",
     "metadata": {},
     "outputs": [
      {
       "metadata": {},
       "output_type": "pyout",
       "prompt_number": 66,
       "text": [
        "0.879746835443038"
       ]
      }
     ],
     "prompt_number": 66
    }
   ],
   "metadata": {}
  }
 ]
}